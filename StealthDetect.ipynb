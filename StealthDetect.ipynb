{
 "cells": [
  {
   "cell_type": "markdown",
   "id": "78832f1f-e44a-4b03-9acd-100a8299ba4b",
   "metadata": {},
   "source": [
    "# Credit Card Fraud Detection"
   ]
  },
  {
   "cell_type": "markdown",
   "id": "ea9dc449-09c5-41ab-85d3-ba14fdf99220",
   "metadata": {},
   "source": [
    "👉IMPORTING NECESSARY lIBRARIES"
   ]
  },
  {
   "cell_type": "code",
   "execution_count": 1,
   "id": "cf93058d-0ebe-49b2-b00c-0e05756a9b95",
   "metadata": {},
   "outputs": [],
   "source": [
    "import numpy as np\n",
    "import pandas as pd\n",
    "import matplotlib.pyplot as plt\n",
    "import seaborn as sns"
   ]
  },
  {
   "cell_type": "markdown",
   "id": "7ff3165b-a4f0-4eff-924a-cb4938ce2841",
   "metadata": {},
   "source": [
    "👉READING DATA"
   ]
  },
  {
   "cell_type": "code",
   "execution_count": 2,
   "id": "920e9960-3288-4860-998e-63af4aff03cf",
   "metadata": {},
   "outputs": [],
   "source": [
    "data = pd.read_csv('creditcard.csv')"
   ]
  },
  {
   "cell_type": "code",
   "execution_count": 3,
   "id": "b47f865b-2088-41e1-b967-5cba47e5a055",
   "metadata": {},
   "outputs": [
    {
     "data": {
      "text/html": [
       "<div>\n",
       "<style scoped>\n",
       "    .dataframe tbody tr th:only-of-type {\n",
       "        vertical-align: middle;\n",
       "    }\n",
       "\n",
       "    .dataframe tbody tr th {\n",
       "        vertical-align: top;\n",
       "    }\n",
       "\n",
       "    .dataframe thead th {\n",
       "        text-align: right;\n",
       "    }\n",
       "</style>\n",
       "<table border=\"1\" class=\"dataframe\">\n",
       "  <thead>\n",
       "    <tr style=\"text-align: right;\">\n",
       "      <th></th>\n",
       "      <th>Time</th>\n",
       "      <th>V1</th>\n",
       "      <th>V2</th>\n",
       "      <th>V3</th>\n",
       "      <th>V4</th>\n",
       "      <th>V5</th>\n",
       "      <th>V6</th>\n",
       "      <th>V7</th>\n",
       "      <th>V8</th>\n",
       "      <th>V9</th>\n",
       "      <th>...</th>\n",
       "      <th>V21</th>\n",
       "      <th>V22</th>\n",
       "      <th>V23</th>\n",
       "      <th>V24</th>\n",
       "      <th>V25</th>\n",
       "      <th>V26</th>\n",
       "      <th>V27</th>\n",
       "      <th>V28</th>\n",
       "      <th>Amount</th>\n",
       "      <th>Class</th>\n",
       "    </tr>\n",
       "  </thead>\n",
       "  <tbody>\n",
       "    <tr>\n",
       "      <th>0</th>\n",
       "      <td>0.0</td>\n",
       "      <td>-1.359807</td>\n",
       "      <td>-0.072781</td>\n",
       "      <td>2.536347</td>\n",
       "      <td>1.378155</td>\n",
       "      <td>-0.338321</td>\n",
       "      <td>0.462388</td>\n",
       "      <td>0.239599</td>\n",
       "      <td>0.098698</td>\n",
       "      <td>0.363787</td>\n",
       "      <td>...</td>\n",
       "      <td>-0.018307</td>\n",
       "      <td>0.277838</td>\n",
       "      <td>-0.110474</td>\n",
       "      <td>0.066928</td>\n",
       "      <td>0.128539</td>\n",
       "      <td>-0.189115</td>\n",
       "      <td>0.133558</td>\n",
       "      <td>-0.021053</td>\n",
       "      <td>149.62</td>\n",
       "      <td>0</td>\n",
       "    </tr>\n",
       "    <tr>\n",
       "      <th>1</th>\n",
       "      <td>0.0</td>\n",
       "      <td>1.191857</td>\n",
       "      <td>0.266151</td>\n",
       "      <td>0.166480</td>\n",
       "      <td>0.448154</td>\n",
       "      <td>0.060018</td>\n",
       "      <td>-0.082361</td>\n",
       "      <td>-0.078803</td>\n",
       "      <td>0.085102</td>\n",
       "      <td>-0.255425</td>\n",
       "      <td>...</td>\n",
       "      <td>-0.225775</td>\n",
       "      <td>-0.638672</td>\n",
       "      <td>0.101288</td>\n",
       "      <td>-0.339846</td>\n",
       "      <td>0.167170</td>\n",
       "      <td>0.125895</td>\n",
       "      <td>-0.008983</td>\n",
       "      <td>0.014724</td>\n",
       "      <td>2.69</td>\n",
       "      <td>0</td>\n",
       "    </tr>\n",
       "    <tr>\n",
       "      <th>2</th>\n",
       "      <td>1.0</td>\n",
       "      <td>-1.358354</td>\n",
       "      <td>-1.340163</td>\n",
       "      <td>1.773209</td>\n",
       "      <td>0.379780</td>\n",
       "      <td>-0.503198</td>\n",
       "      <td>1.800499</td>\n",
       "      <td>0.791461</td>\n",
       "      <td>0.247676</td>\n",
       "      <td>-1.514654</td>\n",
       "      <td>...</td>\n",
       "      <td>0.247998</td>\n",
       "      <td>0.771679</td>\n",
       "      <td>0.909412</td>\n",
       "      <td>-0.689281</td>\n",
       "      <td>-0.327642</td>\n",
       "      <td>-0.139097</td>\n",
       "      <td>-0.055353</td>\n",
       "      <td>-0.059752</td>\n",
       "      <td>378.66</td>\n",
       "      <td>0</td>\n",
       "    </tr>\n",
       "    <tr>\n",
       "      <th>3</th>\n",
       "      <td>1.0</td>\n",
       "      <td>-0.966272</td>\n",
       "      <td>-0.185226</td>\n",
       "      <td>1.792993</td>\n",
       "      <td>-0.863291</td>\n",
       "      <td>-0.010309</td>\n",
       "      <td>1.247203</td>\n",
       "      <td>0.237609</td>\n",
       "      <td>0.377436</td>\n",
       "      <td>-1.387024</td>\n",
       "      <td>...</td>\n",
       "      <td>-0.108300</td>\n",
       "      <td>0.005274</td>\n",
       "      <td>-0.190321</td>\n",
       "      <td>-1.175575</td>\n",
       "      <td>0.647376</td>\n",
       "      <td>-0.221929</td>\n",
       "      <td>0.062723</td>\n",
       "      <td>0.061458</td>\n",
       "      <td>123.50</td>\n",
       "      <td>0</td>\n",
       "    </tr>\n",
       "    <tr>\n",
       "      <th>4</th>\n",
       "      <td>2.0</td>\n",
       "      <td>-1.158233</td>\n",
       "      <td>0.877737</td>\n",
       "      <td>1.548718</td>\n",
       "      <td>0.403034</td>\n",
       "      <td>-0.407193</td>\n",
       "      <td>0.095921</td>\n",
       "      <td>0.592941</td>\n",
       "      <td>-0.270533</td>\n",
       "      <td>0.817739</td>\n",
       "      <td>...</td>\n",
       "      <td>-0.009431</td>\n",
       "      <td>0.798278</td>\n",
       "      <td>-0.137458</td>\n",
       "      <td>0.141267</td>\n",
       "      <td>-0.206010</td>\n",
       "      <td>0.502292</td>\n",
       "      <td>0.219422</td>\n",
       "      <td>0.215153</td>\n",
       "      <td>69.99</td>\n",
       "      <td>0</td>\n",
       "    </tr>\n",
       "  </tbody>\n",
       "</table>\n",
       "<p>5 rows × 31 columns</p>\n",
       "</div>"
      ],
      "text/plain": [
       "   Time        V1        V2        V3        V4        V5        V6        V7  \\\n",
       "0   0.0 -1.359807 -0.072781  2.536347  1.378155 -0.338321  0.462388  0.239599   \n",
       "1   0.0  1.191857  0.266151  0.166480  0.448154  0.060018 -0.082361 -0.078803   \n",
       "2   1.0 -1.358354 -1.340163  1.773209  0.379780 -0.503198  1.800499  0.791461   \n",
       "3   1.0 -0.966272 -0.185226  1.792993 -0.863291 -0.010309  1.247203  0.237609   \n",
       "4   2.0 -1.158233  0.877737  1.548718  0.403034 -0.407193  0.095921  0.592941   \n",
       "\n",
       "         V8        V9  ...       V21       V22       V23       V24       V25  \\\n",
       "0  0.098698  0.363787  ... -0.018307  0.277838 -0.110474  0.066928  0.128539   \n",
       "1  0.085102 -0.255425  ... -0.225775 -0.638672  0.101288 -0.339846  0.167170   \n",
       "2  0.247676 -1.514654  ...  0.247998  0.771679  0.909412 -0.689281 -0.327642   \n",
       "3  0.377436 -1.387024  ... -0.108300  0.005274 -0.190321 -1.175575  0.647376   \n",
       "4 -0.270533  0.817739  ... -0.009431  0.798278 -0.137458  0.141267 -0.206010   \n",
       "\n",
       "        V26       V27       V28  Amount  Class  \n",
       "0 -0.189115  0.133558 -0.021053  149.62      0  \n",
       "1  0.125895 -0.008983  0.014724    2.69      0  \n",
       "2 -0.139097 -0.055353 -0.059752  378.66      0  \n",
       "3 -0.221929  0.062723  0.061458  123.50      0  \n",
       "4  0.502292  0.219422  0.215153   69.99      0  \n",
       "\n",
       "[5 rows x 31 columns]"
      ]
     },
     "execution_count": 3,
     "metadata": {},
     "output_type": "execute_result"
    }
   ],
   "source": [
    "data.head()"
   ]
  },
  {
   "cell_type": "markdown",
   "id": "8a48b18d-0e38-4509-bd1f-d3ace504077c",
   "metadata": {},
   "source": [
    "👉CHECKING MISSING VALUES"
   ]
  },
  {
   "cell_type": "code",
   "execution_count": 4,
   "id": "5839c48c-ad84-495a-92e6-8afcd584831d",
   "metadata": {},
   "outputs": [
    {
     "data": {
      "text/plain": [
       "Time      0\n",
       "V1        0\n",
       "V2        0\n",
       "V3        0\n",
       "V4        0\n",
       "V5        0\n",
       "V6        0\n",
       "V7        0\n",
       "V8        0\n",
       "V9        0\n",
       "V10       0\n",
       "V11       0\n",
       "V12       0\n",
       "V13       0\n",
       "V14       0\n",
       "V15       0\n",
       "V16       0\n",
       "V17       0\n",
       "V18       0\n",
       "V19       0\n",
       "V20       0\n",
       "V21       0\n",
       "V22       0\n",
       "V23       0\n",
       "V24       0\n",
       "V25       0\n",
       "V26       0\n",
       "V27       0\n",
       "V28       0\n",
       "Amount    0\n",
       "Class     0\n",
       "dtype: int64"
      ]
     },
     "execution_count": 4,
     "metadata": {},
     "output_type": "execute_result"
    }
   ],
   "source": [
    "data.isna().sum()"
   ]
  },
  {
   "cell_type": "code",
   "execution_count": 5,
   "id": "35c61067-6234-4382-9a16-24b04aabf2d4",
   "metadata": {},
   "outputs": [
    {
     "data": {
      "text/plain": [
       "Class\n",
       "0    284315\n",
       "1       492\n",
       "Name: count, dtype: int64"
      ]
     },
     "execution_count": 5,
     "metadata": {},
     "output_type": "execute_result"
    }
   ],
   "source": [
    "data['Class'].value_counts()"
   ]
  },
  {
   "cell_type": "markdown",
   "id": "299cdb77-294b-4348-a648-c8a9ee11295c",
   "metadata": {},
   "source": [
    "👉SEPARATING TRUE AND FALSE TRANSACTIONS"
   ]
  },
  {
   "cell_type": "code",
   "execution_count": 6,
   "id": "98ca371e-ef17-4e47-9af1-4a619c64760f",
   "metadata": {},
   "outputs": [
    {
     "data": {
      "text/plain": [
       "((284315, 31), (492, 31))"
      ]
     },
     "execution_count": 6,
     "metadata": {},
     "output_type": "execute_result"
    }
   ],
   "source": [
    "legit = data[data.Class == 0]\n",
    "fraud = data[data.Class == 1]\n",
    "\n",
    "(legit.shape, fraud.shape)"
   ]
  },
  {
   "cell_type": "markdown",
   "id": "4517a42f-2382-4c87-a4d0-c2fbad7a8dfa",
   "metadata": {},
   "source": [
    "👉RANDOM UNDERSAMPLING OF TRUE TRANSACTIONS OF SIMILAR SIZE AS OF FRAUDULENT TRANSACTION"
   ]
  },
  {
   "cell_type": "code",
   "execution_count": 7,
   "id": "f910efed-d703-42f7-ab08-a09f01edddc0",
   "metadata": {},
   "outputs": [
    {
     "data": {
      "text/plain": [
       "(492, 31)"
      ]
     },
     "execution_count": 7,
     "metadata": {},
     "output_type": "execute_result"
    }
   ],
   "source": [
    "legit_sample = legit.sample(n = 492)\n",
    "legit_sample.shape"
   ]
  },
  {
   "cell_type": "markdown",
   "id": "426ea70b-5661-4991-988f-2f4f6d114fca",
   "metadata": {},
   "source": [
    "👉CREATING NEW DATAFRAME WIRH EQUAL NUMBER OF TRUE AND FRAUDULENT TRANSACTIONS"
   ]
  },
  {
   "cell_type": "code",
   "execution_count": 8,
   "id": "f7de3f12-4609-48ed-be51-d8efb56a2d6c",
   "metadata": {},
   "outputs": [
    {
     "data": {
      "text/plain": [
       "(984, 31)"
      ]
     },
     "execution_count": 8,
     "metadata": {},
     "output_type": "execute_result"
    }
   ],
   "source": [
    "df = pd.concat([legit_sample, fraud], axis=0)\n",
    "df.shape"
   ]
  },
  {
   "cell_type": "code",
   "execution_count": 9,
   "id": "98cfd5e1-2ad7-4a50-acc3-31ef1fb67522",
   "metadata": {},
   "outputs": [
    {
     "data": {
      "text/plain": [
       "Class\n",
       "0    492\n",
       "1    492\n",
       "Name: count, dtype: int64"
      ]
     },
     "execution_count": 9,
     "metadata": {},
     "output_type": "execute_result"
    }
   ],
   "source": [
    "df.Class.value_counts()"
   ]
  },
  {
   "cell_type": "markdown",
   "id": "a01da0e4-6587-4fbb-90ac-afdeb70e5825",
   "metadata": {},
   "source": [
    "👉FEATURES AND TARGET SEPERATION"
   ]
  },
  {
   "cell_type": "code",
   "execution_count": 10,
   "id": "20b13ef7-dba2-46eb-9074-80c7da20d236",
   "metadata": {},
   "outputs": [],
   "source": [
    "X = df.drop('Class', axis=1)\n",
    "Y = df.Class"
   ]
  },
  {
   "cell_type": "code",
   "execution_count": 11,
   "id": "45340a1b-b1d4-4a06-9ec7-08bff239ffee",
   "metadata": {},
   "outputs": [],
   "source": [
    "from sklearn.model_selection import train_test_split\n",
    "from sklearn.linear_model import LogisticRegression\n",
    "from sklearn.metrics import accuracy_score"
   ]
  },
  {
   "cell_type": "markdown",
   "id": "adb6ecb1-e2d1-486c-8f4b-94dac27a2a0a",
   "metadata": {},
   "source": [
    "👉SEPERATING DATA FOR TRAINING AND TESTING"
   ]
  },
  {
   "cell_type": "code",
   "execution_count": 12,
   "id": "d3fac827-5c8a-40be-9e31-deefb12cb978",
   "metadata": {},
   "outputs": [],
   "source": [
    "X_train, X_test, Y_train, Y_test = train_test_split(X, Y, test_size=0.2, stratify=Y, random_state=2,)"
   ]
  },
  {
   "cell_type": "code",
   "execution_count": 13,
   "id": "86cc661a-d2d2-4a5c-b443-15ba497c0218",
   "metadata": {},
   "outputs": [
    {
     "data": {
      "text/plain": [
       "((984, 30), (787, 30), (197, 30))"
      ]
     },
     "execution_count": 13,
     "metadata": {},
     "output_type": "execute_result"
    }
   ],
   "source": [
    "(X.shape, X_train.shape, X_test.shape)"
   ]
  },
  {
   "cell_type": "markdown",
   "id": "9519dd47-4329-47aa-91a4-cc3e075a6dcf",
   "metadata": {},
   "source": [
    "👉USING LOGISTIC REGRESSION MODEL"
   ]
  },
  {
   "cell_type": "code",
   "execution_count": 14,
   "id": "607c7db1-e4ca-4199-b862-e550f9d4d8d5",
   "metadata": {},
   "outputs": [],
   "source": [
    "model = LogisticRegression()"
   ]
  },
  {
   "cell_type": "code",
   "execution_count": 15,
   "id": "ca49d96f-d57a-4dde-82bf-58d06b1571d3",
   "metadata": {},
   "outputs": [
    {
     "name": "stderr",
     "output_type": "stream",
     "text": [
<<<<<<< HEAD
      "c:\\Python311\\Lib\\site-packages\\sklearn\\linear_model\\_logistic.py:469: ConvergenceWarning: lbfgs failed to converge (status=1):\n",
=======
      "C:\\Python311\\Lib\\site-packages\\sklearn\\linear_model\\_logistic.py:469: ConvergenceWarning: lbfgs failed to converge (status=1):\n",
>>>>>>> c5ea718a9496f490304b1ac284e6d80a420b5ecc
      "STOP: TOTAL NO. of ITERATIONS REACHED LIMIT.\n",
      "\n",
      "Increase the number of iterations (max_iter) or scale the data as shown in:\n",
      "    https://scikit-learn.org/stable/modules/preprocessing.html\n",
      "Please also refer to the documentation for alternative solver options:\n",
      "    https://scikit-learn.org/stable/modules/linear_model.html#logistic-regression\n",
      "  n_iter_i = _check_optimize_result(\n"
     ]
    },
    {
     "data": {
      "text/html": [
       "<style>#sk-container-id-1 {\n",
       "  /* Definition of color scheme common for light and dark mode */\n",
       "  --sklearn-color-text: black;\n",
       "  --sklearn-color-line: gray;\n",
       "  /* Definition of color scheme for unfitted estimators */\n",
       "  --sklearn-color-unfitted-level-0: #fff5e6;\n",
       "  --sklearn-color-unfitted-level-1: #f6e4d2;\n",
       "  --sklearn-color-unfitted-level-2: #ffe0b3;\n",
       "  --sklearn-color-unfitted-level-3: chocolate;\n",
       "  /* Definition of color scheme for fitted estimators */\n",
       "  --sklearn-color-fitted-level-0: #f0f8ff;\n",
       "  --sklearn-color-fitted-level-1: #d4ebff;\n",
       "  --sklearn-color-fitted-level-2: #b3dbfd;\n",
       "  --sklearn-color-fitted-level-3: cornflowerblue;\n",
       "\n",
       "  /* Specific color for light theme */\n",
       "  --sklearn-color-text-on-default-background: var(--sg-text-color, var(--theme-code-foreground, var(--jp-content-font-color1, black)));\n",
       "  --sklearn-color-background: var(--sg-background-color, var(--theme-background, var(--jp-layout-color0, white)));\n",
       "  --sklearn-color-border-box: var(--sg-text-color, var(--theme-code-foreground, var(--jp-content-font-color1, black)));\n",
       "  --sklearn-color-icon: #696969;\n",
       "\n",
       "  @media (prefers-color-scheme: dark) {\n",
       "    /* Redefinition of color scheme for dark theme */\n",
       "    --sklearn-color-text-on-default-background: var(--sg-text-color, var(--theme-code-foreground, var(--jp-content-font-color1, white)));\n",
       "    --sklearn-color-background: var(--sg-background-color, var(--theme-background, var(--jp-layout-color0, #111)));\n",
       "    --sklearn-color-border-box: var(--sg-text-color, var(--theme-code-foreground, var(--jp-content-font-color1, white)));\n",
       "    --sklearn-color-icon: #878787;\n",
       "  }\n",
       "}\n",
       "\n",
       "#sk-container-id-1 {\n",
       "  color: var(--sklearn-color-text);\n",
       "}\n",
       "\n",
       "#sk-container-id-1 pre {\n",
       "  padding: 0;\n",
       "}\n",
       "\n",
       "#sk-container-id-1 input.sk-hidden--visually {\n",
       "  border: 0;\n",
       "  clip: rect(1px 1px 1px 1px);\n",
       "  clip: rect(1px, 1px, 1px, 1px);\n",
       "  height: 1px;\n",
       "  margin: -1px;\n",
       "  overflow: hidden;\n",
       "  padding: 0;\n",
       "  position: absolute;\n",
       "  width: 1px;\n",
       "}\n",
       "\n",
       "#sk-container-id-1 div.sk-dashed-wrapped {\n",
       "  border: 1px dashed var(--sklearn-color-line);\n",
       "  margin: 0 0.4em 0.5em 0.4em;\n",
       "  box-sizing: border-box;\n",
       "  padding-bottom: 0.4em;\n",
       "  background-color: var(--sklearn-color-background);\n",
       "}\n",
       "\n",
       "#sk-container-id-1 div.sk-container {\n",
       "  /* jupyter's `normalize.less` sets `[hidden] { display: none; }`\n",
       "     but bootstrap.min.css set `[hidden] { display: none !important; }`\n",
       "     so we also need the `!important` here to be able to override the\n",
       "     default hidden behavior on the sphinx rendered scikit-learn.org.\n",
       "     See: https://github.com/scikit-learn/scikit-learn/issues/21755 */\n",
       "  display: inline-block !important;\n",
       "  position: relative;\n",
       "}\n",
       "\n",
       "#sk-container-id-1 div.sk-text-repr-fallback {\n",
       "  display: none;\n",
       "}\n",
       "\n",
       "div.sk-parallel-item,\n",
       "div.sk-serial,\n",
       "div.sk-item {\n",
       "  /* draw centered vertical line to link estimators */\n",
       "  background-image: linear-gradient(var(--sklearn-color-text-on-default-background), var(--sklearn-color-text-on-default-background));\n",
       "  background-size: 2px 100%;\n",
       "  background-repeat: no-repeat;\n",
       "  background-position: center center;\n",
       "}\n",
       "\n",
       "/* Parallel-specific style estimator block */\n",
       "\n",
       "#sk-container-id-1 div.sk-parallel-item::after {\n",
       "  content: \"\";\n",
       "  width: 100%;\n",
       "  border-bottom: 2px solid var(--sklearn-color-text-on-default-background);\n",
       "  flex-grow: 1;\n",
       "}\n",
       "\n",
       "#sk-container-id-1 div.sk-parallel {\n",
       "  display: flex;\n",
       "  align-items: stretch;\n",
       "  justify-content: center;\n",
       "  background-color: var(--sklearn-color-background);\n",
       "  position: relative;\n",
       "}\n",
       "\n",
       "#sk-container-id-1 div.sk-parallel-item {\n",
       "  display: flex;\n",
       "  flex-direction: column;\n",
       "}\n",
       "\n",
       "#sk-container-id-1 div.sk-parallel-item:first-child::after {\n",
       "  align-self: flex-end;\n",
       "  width: 50%;\n",
       "}\n",
       "\n",
       "#sk-container-id-1 div.sk-parallel-item:last-child::after {\n",
       "  align-self: flex-start;\n",
       "  width: 50%;\n",
       "}\n",
       "\n",
       "#sk-container-id-1 div.sk-parallel-item:only-child::after {\n",
       "  width: 0;\n",
       "}\n",
       "\n",
       "/* Serial-specific style estimator block */\n",
       "\n",
       "#sk-container-id-1 div.sk-serial {\n",
       "  display: flex;\n",
       "  flex-direction: column;\n",
       "  align-items: center;\n",
       "  background-color: var(--sklearn-color-background);\n",
       "  padding-right: 1em;\n",
       "  padding-left: 1em;\n",
       "}\n",
       "\n",
       "\n",
       "/* Toggleable style: style used for estimator/Pipeline/ColumnTransformer box that is\n",
       "clickable and can be expanded/collapsed.\n",
       "- Pipeline and ColumnTransformer use this feature and define the default style\n",
       "- Estimators will overwrite some part of the style using the `sk-estimator` class\n",
       "*/\n",
       "\n",
       "/* Pipeline and ColumnTransformer style (default) */\n",
       "\n",
       "#sk-container-id-1 div.sk-toggleable {\n",
       "  /* Default theme specific background. It is overwritten whether we have a\n",
       "  specific estimator or a Pipeline/ColumnTransformer */\n",
       "  background-color: var(--sklearn-color-background);\n",
       "}\n",
       "\n",
       "/* Toggleable label */\n",
       "#sk-container-id-1 label.sk-toggleable__label {\n",
       "  cursor: pointer;\n",
       "  display: block;\n",
       "  width: 100%;\n",
       "  margin-bottom: 0;\n",
       "  padding: 0.5em;\n",
       "  box-sizing: border-box;\n",
       "  text-align: center;\n",
       "}\n",
       "\n",
       "#sk-container-id-1 label.sk-toggleable__label-arrow:before {\n",
       "  /* Arrow on the left of the label */\n",
       "  content: \"▸\";\n",
       "  float: left;\n",
       "  margin-right: 0.25em;\n",
       "  color: var(--sklearn-color-icon);\n",
       "}\n",
       "\n",
       "#sk-container-id-1 label.sk-toggleable__label-arrow:hover:before {\n",
       "  color: var(--sklearn-color-text);\n",
       "}\n",
       "\n",
       "/* Toggleable content - dropdown */\n",
       "\n",
       "#sk-container-id-1 div.sk-toggleable__content {\n",
       "  max-height: 0;\n",
       "  max-width: 0;\n",
       "  overflow: hidden;\n",
       "  text-align: left;\n",
       "  /* unfitted */\n",
       "  background-color: var(--sklearn-color-unfitted-level-0);\n",
       "}\n",
       "\n",
       "#sk-container-id-1 div.sk-toggleable__content.fitted {\n",
       "  /* fitted */\n",
       "  background-color: var(--sklearn-color-fitted-level-0);\n",
       "}\n",
       "\n",
       "#sk-container-id-1 div.sk-toggleable__content pre {\n",
       "  margin: 0.2em;\n",
       "  border-radius: 0.25em;\n",
       "  color: var(--sklearn-color-text);\n",
       "  /* unfitted */\n",
       "  background-color: var(--sklearn-color-unfitted-level-0);\n",
       "}\n",
       "\n",
       "#sk-container-id-1 div.sk-toggleable__content.fitted pre {\n",
       "  /* unfitted */\n",
       "  background-color: var(--sklearn-color-fitted-level-0);\n",
       "}\n",
       "\n",
       "#sk-container-id-1 input.sk-toggleable__control:checked~div.sk-toggleable__content {\n",
       "  /* Expand drop-down */\n",
       "  max-height: 200px;\n",
       "  max-width: 100%;\n",
       "  overflow: auto;\n",
       "}\n",
       "\n",
       "#sk-container-id-1 input.sk-toggleable__control:checked~label.sk-toggleable__label-arrow:before {\n",
       "  content: \"▾\";\n",
       "}\n",
       "\n",
       "/* Pipeline/ColumnTransformer-specific style */\n",
       "\n",
       "#sk-container-id-1 div.sk-label input.sk-toggleable__control:checked~label.sk-toggleable__label {\n",
       "  color: var(--sklearn-color-text);\n",
       "  background-color: var(--sklearn-color-unfitted-level-2);\n",
       "}\n",
       "\n",
       "#sk-container-id-1 div.sk-label.fitted input.sk-toggleable__control:checked~label.sk-toggleable__label {\n",
       "  background-color: var(--sklearn-color-fitted-level-2);\n",
       "}\n",
       "\n",
       "/* Estimator-specific style */\n",
       "\n",
       "/* Colorize estimator box */\n",
       "#sk-container-id-1 div.sk-estimator input.sk-toggleable__control:checked~label.sk-toggleable__label {\n",
       "  /* unfitted */\n",
       "  background-color: var(--sklearn-color-unfitted-level-2);\n",
       "}\n",
       "\n",
       "#sk-container-id-1 div.sk-estimator.fitted input.sk-toggleable__control:checked~label.sk-toggleable__label {\n",
       "  /* fitted */\n",
       "  background-color: var(--sklearn-color-fitted-level-2);\n",
       "}\n",
       "\n",
       "#sk-container-id-1 div.sk-label label.sk-toggleable__label,\n",
       "#sk-container-id-1 div.sk-label label {\n",
       "  /* The background is the default theme color */\n",
       "  color: var(--sklearn-color-text-on-default-background);\n",
       "}\n",
       "\n",
       "/* On hover, darken the color of the background */\n",
       "#sk-container-id-1 div.sk-label:hover label.sk-toggleable__label {\n",
       "  color: var(--sklearn-color-text);\n",
       "  background-color: var(--sklearn-color-unfitted-level-2);\n",
       "}\n",
       "\n",
       "/* Label box, darken color on hover, fitted */\n",
       "#sk-container-id-1 div.sk-label.fitted:hover label.sk-toggleable__label.fitted {\n",
       "  color: var(--sklearn-color-text);\n",
       "  background-color: var(--sklearn-color-fitted-level-2);\n",
       "}\n",
       "\n",
       "/* Estimator label */\n",
       "\n",
       "#sk-container-id-1 div.sk-label label {\n",
       "  font-family: monospace;\n",
       "  font-weight: bold;\n",
       "  display: inline-block;\n",
       "  line-height: 1.2em;\n",
       "}\n",
       "\n",
       "#sk-container-id-1 div.sk-label-container {\n",
       "  text-align: center;\n",
       "}\n",
       "\n",
       "/* Estimator-specific */\n",
       "#sk-container-id-1 div.sk-estimator {\n",
       "  font-family: monospace;\n",
       "  border: 1px dotted var(--sklearn-color-border-box);\n",
       "  border-radius: 0.25em;\n",
       "  box-sizing: border-box;\n",
       "  margin-bottom: 0.5em;\n",
       "  /* unfitted */\n",
       "  background-color: var(--sklearn-color-unfitted-level-0);\n",
       "}\n",
       "\n",
       "#sk-container-id-1 div.sk-estimator.fitted {\n",
       "  /* fitted */\n",
       "  background-color: var(--sklearn-color-fitted-level-0);\n",
       "}\n",
       "\n",
       "/* on hover */\n",
       "#sk-container-id-1 div.sk-estimator:hover {\n",
       "  /* unfitted */\n",
       "  background-color: var(--sklearn-color-unfitted-level-2);\n",
       "}\n",
       "\n",
       "#sk-container-id-1 div.sk-estimator.fitted:hover {\n",
       "  /* fitted */\n",
       "  background-color: var(--sklearn-color-fitted-level-2);\n",
       "}\n",
       "\n",
       "/* Specification for estimator info (e.g. \"i\" and \"?\") */\n",
       "\n",
       "/* Common style for \"i\" and \"?\" */\n",
       "\n",
       ".sk-estimator-doc-link,\n",
       "a:link.sk-estimator-doc-link,\n",
       "a:visited.sk-estimator-doc-link {\n",
       "  float: right;\n",
       "  font-size: smaller;\n",
       "  line-height: 1em;\n",
       "  font-family: monospace;\n",
       "  background-color: var(--sklearn-color-background);\n",
       "  border-radius: 1em;\n",
       "  height: 1em;\n",
       "  width: 1em;\n",
       "  text-decoration: none !important;\n",
       "  margin-left: 1ex;\n",
       "  /* unfitted */\n",
       "  border: var(--sklearn-color-unfitted-level-1) 1pt solid;\n",
       "  color: var(--sklearn-color-unfitted-level-1);\n",
       "}\n",
       "\n",
       ".sk-estimator-doc-link.fitted,\n",
       "a:link.sk-estimator-doc-link.fitted,\n",
       "a:visited.sk-estimator-doc-link.fitted {\n",
       "  /* fitted */\n",
       "  border: var(--sklearn-color-fitted-level-1) 1pt solid;\n",
       "  color: var(--sklearn-color-fitted-level-1);\n",
       "}\n",
       "\n",
       "/* On hover */\n",
       "div.sk-estimator:hover .sk-estimator-doc-link:hover,\n",
       ".sk-estimator-doc-link:hover,\n",
       "div.sk-label-container:hover .sk-estimator-doc-link:hover,\n",
       ".sk-estimator-doc-link:hover {\n",
       "  /* unfitted */\n",
       "  background-color: var(--sklearn-color-unfitted-level-3);\n",
       "  color: var(--sklearn-color-background);\n",
       "  text-decoration: none;\n",
       "}\n",
       "\n",
       "div.sk-estimator.fitted:hover .sk-estimator-doc-link.fitted:hover,\n",
       ".sk-estimator-doc-link.fitted:hover,\n",
       "div.sk-label-container:hover .sk-estimator-doc-link.fitted:hover,\n",
       ".sk-estimator-doc-link.fitted:hover {\n",
       "  /* fitted */\n",
       "  background-color: var(--sklearn-color-fitted-level-3);\n",
       "  color: var(--sklearn-color-background);\n",
       "  text-decoration: none;\n",
       "}\n",
       "\n",
       "/* Span, style for the box shown on hovering the info icon */\n",
       ".sk-estimator-doc-link span {\n",
       "  display: none;\n",
       "  z-index: 9999;\n",
       "  position: relative;\n",
       "  font-weight: normal;\n",
       "  right: .2ex;\n",
       "  padding: .5ex;\n",
       "  margin: .5ex;\n",
       "  width: min-content;\n",
       "  min-width: 20ex;\n",
       "  max-width: 50ex;\n",
       "  color: var(--sklearn-color-text);\n",
       "  box-shadow: 2pt 2pt 4pt #999;\n",
       "  /* unfitted */\n",
       "  background: var(--sklearn-color-unfitted-level-0);\n",
       "  border: .5pt solid var(--sklearn-color-unfitted-level-3);\n",
       "}\n",
       "\n",
       ".sk-estimator-doc-link.fitted span {\n",
       "  /* fitted */\n",
       "  background: var(--sklearn-color-fitted-level-0);\n",
       "  border: var(--sklearn-color-fitted-level-3);\n",
       "}\n",
       "\n",
       ".sk-estimator-doc-link:hover span {\n",
       "  display: block;\n",
       "}\n",
       "\n",
       "/* \"?\"-specific style due to the `<a>` HTML tag */\n",
       "\n",
       "#sk-container-id-1 a.estimator_doc_link {\n",
       "  float: right;\n",
       "  font-size: 1rem;\n",
       "  line-height: 1em;\n",
       "  font-family: monospace;\n",
       "  background-color: var(--sklearn-color-background);\n",
       "  border-radius: 1rem;\n",
       "  height: 1rem;\n",
       "  width: 1rem;\n",
       "  text-decoration: none;\n",
       "  /* unfitted */\n",
       "  color: var(--sklearn-color-unfitted-level-1);\n",
       "  border: var(--sklearn-color-unfitted-level-1) 1pt solid;\n",
       "}\n",
       "\n",
       "#sk-container-id-1 a.estimator_doc_link.fitted {\n",
       "  /* fitted */\n",
       "  border: var(--sklearn-color-fitted-level-1) 1pt solid;\n",
       "  color: var(--sklearn-color-fitted-level-1);\n",
       "}\n",
       "\n",
       "/* On hover */\n",
       "#sk-container-id-1 a.estimator_doc_link:hover {\n",
       "  /* unfitted */\n",
       "  background-color: var(--sklearn-color-unfitted-level-3);\n",
       "  color: var(--sklearn-color-background);\n",
       "  text-decoration: none;\n",
       "}\n",
       "\n",
       "#sk-container-id-1 a.estimator_doc_link.fitted:hover {\n",
       "  /* fitted */\n",
       "  background-color: var(--sklearn-color-fitted-level-3);\n",
       "}\n",
       "</style><div id=\"sk-container-id-1\" class=\"sk-top-container\"><div class=\"sk-text-repr-fallback\"><pre>LogisticRegression()</pre><b>In a Jupyter environment, please rerun this cell to show the HTML representation or trust the notebook. <br />On GitHub, the HTML representation is unable to render, please try loading this page with nbviewer.org.</b></div><div class=\"sk-container\" hidden><div class=\"sk-item\"><div class=\"sk-estimator fitted sk-toggleable\"><input class=\"sk-toggleable__control sk-hidden--visually\" id=\"sk-estimator-id-1\" type=\"checkbox\" checked><label for=\"sk-estimator-id-1\" class=\"sk-toggleable__label fitted sk-toggleable__label-arrow fitted\">&nbsp;&nbsp;LogisticRegression<a class=\"sk-estimator-doc-link fitted\" rel=\"noreferrer\" target=\"_blank\" href=\"https://scikit-learn.org/1.4/modules/generated/sklearn.linear_model.LogisticRegression.html\">?<span>Documentation for LogisticRegression</span></a><span class=\"sk-estimator-doc-link fitted\">i<span>Fitted</span></span></label><div class=\"sk-toggleable__content fitted\"><pre>LogisticRegression()</pre></div> </div></div></div></div>"
      ],
      "text/plain": [
       "LogisticRegression()"
      ]
     },
     "execution_count": 15,
     "metadata": {},
     "output_type": "execute_result"
    }
   ],
   "source": [
    "model.fit(X_train, Y_train)"
   ]
  },
  {
   "cell_type": "markdown",
   "id": "a604645d-5834-4b89-b406-3a59bfaf9ecc",
   "metadata": {},
   "source": [
    "MAKING PREDICTIONS ON TRAINING DATA"
   ]
  },
  {
   "cell_type": "code",
   "execution_count": 16,
   "id": "9bc767e2-5f13-4a5e-b8dc-f1b1b287625a",
   "metadata": {},
   "outputs": [],
   "source": [
    "X_train_prediction = model.predict(X_train)\n",
    "training_data_accuracy = accuracy_score(X_train_prediction, Y_train)"
   ]
  },
  {
   "cell_type": "code",
   "execution_count": 17,
   "id": "cecdd8eb-e40e-40a8-9c36-7d903aad619e",
   "metadata": {},
   "outputs": [
    {
     "name": "stdout",
     "output_type": "stream",
     "text": [
<<<<<<< HEAD
      "Accuracy on Training data :  0.9440914866581956\n"
=======
      "Accuracy on Training data :  0.9479034307496823\n"
>>>>>>> c5ea718a9496f490304b1ac284e6d80a420b5ecc
     ]
    }
   ],
   "source": [
    "print('Accuracy on Training data : ', training_data_accuracy)"
   ]
  },
  {
<<<<<<< HEAD
   "cell_type": "code",
   "execution_count": 19,
   "id": "85bb636a",
   "metadata": {},
   "outputs": [
    {
     "name": "stdout",
     "output_type": "stream",
     "text": [
      "Model Saved successfully\n"
     ]
    }
   ],
   "source": [
    "import pickle\n",
    "\n",
    "with open(\"model.pkl\", \"wb\") as file:\n",
    "    pickle.dump(model, file)\n",
    "\n",
    "print(\"Model Saved successfully\")"
   ]
  },
  {
=======
>>>>>>> c5ea718a9496f490304b1ac284e6d80a420b5ecc
   "cell_type": "markdown",
   "id": "772aa32d-6206-4273-81a9-62c26d3c546a",
   "metadata": {},
   "source": [
    "👉MAKING PREDICTIONS ON TESTING DATA"
   ]
  },
  {
   "cell_type": "code",
<<<<<<< HEAD
   "execution_count": 20,
=======
   "execution_count": 18,
>>>>>>> c5ea718a9496f490304b1ac284e6d80a420b5ecc
   "id": "c43a0e00-3fb5-4cf6-b33c-9c24f7a8adab",
   "metadata": {},
   "outputs": [],
   "source": [
    "X_test_prediction = model.predict(X_test)\n",
    "test_data_accuracy = accuracy_score(X_test_prediction, Y_test)"
   ]
  },
  {
   "cell_type": "code",
<<<<<<< HEAD
   "execution_count": 21,
=======
   "execution_count": 19,
>>>>>>> c5ea718a9496f490304b1ac284e6d80a420b5ecc
   "id": "3048a8fa-94f6-4592-a416-06962ebc0990",
   "metadata": {},
   "outputs": [
    {
     "name": "stdout",
     "output_type": "stream",
     "text": [
<<<<<<< HEAD
      "Accuracy score on Test Data :  0.9238578680203046\n"
=======
      "Accuracy score on Test Data :  0.9289340101522843\n"
>>>>>>> c5ea718a9496f490304b1ac284e6d80a420b5ecc
     ]
    }
   ],
   "source": [
    "print('Accuracy score on Test Data : ', test_data_accuracy)"
   ]
  },
  {
   "cell_type": "markdown",
   "id": "38ce9a1c-8def-4625-91de-3084054b75dd",
   "metadata": {},
   "source": [
    "👉VISUALIZING TRAINING AND TESTING ACCURACIES"
   ]
  },
  {
   "cell_type": "code",
<<<<<<< HEAD
   "execution_count": 22,
=======
   "execution_count": 20,
>>>>>>> c5ea718a9496f490304b1ac284e6d80a420b5ecc
   "id": "2c0fd9c5-b825-4729-b82e-f0f8dc7ba55b",
   "metadata": {},
   "outputs": [
    {
     "data": {
<<<<<<< HEAD
      "image/png": "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",
=======
      "image/png": "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",
>>>>>>> c5ea718a9496f490304b1ac284e6d80a420b5ecc
      "text/plain": [
       "<Figure size 640x480 with 1 Axes>"
      ]
     },
     "metadata": {},
     "output_type": "display_data"
    }
   ],
   "source": [
    "import matplotlib.pyplot as plt\n",
    "\n",
    "# Create bar plot\n",
    "accuracy_data = [training_data_accuracy, test_data_accuracy]\n",
    "labels = ['Training Accuracy', 'Testing Accuracy']\n",
    "\n",
    "plt.bar(labels, accuracy_data, color=['blue', 'orange'])\n",
    "plt.ylim(0, 1)  # Accuracy is between 0 and 1\n",
    "plt.ylabel('Accuracy')\n",
    "plt.title('Training vs Testing Accuracy')\n",
    "plt.show()\n"
   ]
  },
  {
   "cell_type": "code",
<<<<<<< HEAD
   "execution_count": 23,
=======
   "execution_count": 26,
>>>>>>> c5ea718a9496f490304b1ac284e6d80a420b5ecc
   "id": "e7451054-849f-417d-b0b3-e00a56e24e61",
   "metadata": {},
   "outputs": [
    {
     "data": {
<<<<<<< HEAD
      "image/png": "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",
=======
      "image/png": "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",
>>>>>>> c5ea718a9496f490304b1ac284e6d80a420b5ecc
      "text/plain": [
       "<Figure size 600x400 with 2 Axes>"
      ]
     },
     "metadata": {},
     "output_type": "display_data"
    }
   ],
   "source": [
    "from sklearn.metrics import confusion_matrix\n",
    "cm = confusion_matrix(X_test_prediction, Y_test)\n",
    "\n",
    "plt.figure(figsize=(6, 4))\n",
    "sns.heatmap(cm, annot=True, fmt='d', cmap='Blues')\n",
    "plt.xlabel('Predicted Label')\n",
    "plt.ylabel('True Label')\n",
    "plt.title('Confusion Matrix (Accuracy)')\n",
    "plt.show()"
   ]
  },
  {
   "cell_type": "markdown",
   "id": "5932f9ce-0a59-49fa-b485-3c6e3ff81797",
   "metadata": {},
   "source": [
    "👉PRECISION SCORE"
   ]
  },
  {
   "cell_type": "code",
<<<<<<< HEAD
   "execution_count": 24,
=======
   "execution_count": 22,
>>>>>>> c5ea718a9496f490304b1ac284e6d80a420b5ecc
   "id": "a9341ed3-7ec9-456f-bf77-52da2a79df13",
   "metadata": {},
   "outputs": [
    {
     "name": "stdout",
     "output_type": "stream",
     "text": [
<<<<<<< HEAD
      "Precision:  0.8775510204081632\n"
=======
      "Precision:  0.8673469387755102\n"
>>>>>>> c5ea718a9496f490304b1ac284e6d80a420b5ecc
     ]
    }
   ],
   "source": [
    "from sklearn.metrics import precision_score\n",
    "precision = precision_score(X_test_prediction, Y_test)\n",
    "print('Precision: ', precision)\n"
   ]
  },
  {
   "cell_type": "markdown",
   "id": "27f7694b-0720-4967-8d0b-a8aa03c8ec88",
   "metadata": {},
   "source": [
    "👉RECALL SCORE"
   ]
  },
  {
   "cell_type": "code",
<<<<<<< HEAD
   "execution_count": 25,
=======
   "execution_count": 23,
>>>>>>> c5ea718a9496f490304b1ac284e6d80a420b5ecc
   "id": "2a50a52c-1d29-48b5-8731-4d3cb9d8be95",
   "metadata": {},
   "outputs": [
    {
     "name": "stdout",
     "output_type": "stream",
     "text": [
<<<<<<< HEAD
      "Recall:  0.9662921348314607\n"
=======
      "Recall:  0.9883720930232558\n"
>>>>>>> c5ea718a9496f490304b1ac284e6d80a420b5ecc
     ]
    }
   ],
   "source": [
    "from sklearn.metrics import recall_score\n",
    "recall = recall_score(X_test_prediction, Y_test)\n",
    "print('Recall: ', recall)\n"
   ]
  },
  {
   "cell_type": "markdown",
   "id": "eb6bf8fd-8ac6-4b08-80db-42419e884132",
   "metadata": {},
   "source": [
    "👉F1 SCORE"
   ]
  },
  {
   "cell_type": "code",
<<<<<<< HEAD
   "execution_count": 26,
=======
   "execution_count": 24,
>>>>>>> c5ea718a9496f490304b1ac284e6d80a420b5ecc
   "id": "f3a33495-b1e8-4ebc-bee9-b9f8fe8e870b",
   "metadata": {},
   "outputs": [
    {
     "name": "stdout",
     "output_type": "stream",
     "text": [
<<<<<<< HEAD
      "F1-Score:  0.9197860962566845\n"
=======
      "F1-Score:  0.9239130434782609\n"
>>>>>>> c5ea718a9496f490304b1ac284e6d80a420b5ecc
     ]
    }
   ],
   "source": [
    "from sklearn.metrics import f1_score\n",
    "f1 = f1_score(X_test_prediction, Y_test)\n",
    "print('F1-Score: ', f1)"
   ]
  },
  {
   "cell_type": "markdown",
   "id": "f3ee2288-12c6-40c2-9be0-bb8b539a8196",
   "metadata": {},
   "source": [
    "👉 VISUALIZING PRECISION, RECALL, F1-SCORE"
   ]
  },
  {
   "cell_type": "code",
<<<<<<< HEAD
   "execution_count": 27,
=======
   "execution_count": 25,
>>>>>>> c5ea718a9496f490304b1ac284e6d80a420b5ecc
   "id": "0f5df81a-07c2-4df9-b72f-d18fc5c1f170",
   "metadata": {},
   "outputs": [
    {
     "data": {
<<<<<<< HEAD
      "image/png": "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",
=======
      "image/png": "iVBORw0KGgoAAAANSUhEUgAAAjcAAAGzCAYAAADT4Tb9AAAAOXRFWHRTb2Z0d2FyZQBNYXRwbG90bGliIHZlcnNpb24zLjguMCwgaHR0cHM6Ly9tYXRwbG90bGliLm9yZy81sbWrAAAACXBIWXMAAA9hAAAPYQGoP6dpAAA1yUlEQVR4nO3deVxU9f7H8feAMqAsLggIkpCZ5hIaLpF6zSTJuppdF1IL1NIWTZOssJuaVtKipqVlWS4t3kgrr9c1I81Sb5aGN7tGLpjWFZBMUEwIOL8/+jE5gQqIDn59PR+PeTyY7/mecz7nzHfgzVlmbJZlWQIAADCEm6sLAAAAqEqEGwAAYBTCDQAAMArhBgAAGIVwAwAAjEK4AQAARiHcAAAAoxBuAACAUQg3AADAKIQb4AIZMmSIwsLCKjTPhg0bZLPZtGHDhvNSk4lsNpueeOIJx/OFCxfKZrNp//79LqupPCozPgCUjXADY5X8USt5eHp66sorr9SoUaOUmZnp6vIuSn/epzVq1FBISIiGDBmin376ydXlXRKuv/56p9fg1Md3333n6Pf000+rd+/eCgwMLBX4yqO4uFhvvvmmOnbsqHr16snHx0dXXnml4uLi9O9//7uKtwqoWjVcXQBwvk2ZMkXh4eE6efKkPv/8c73yyitatWqVdu7cqVq1al2wOubNm6fi4uIKzfOXv/xFv/76qzw8PM5TVZVz6j7997//rYULF+rzzz/Xzp075enp6eryjNeoUSMlJSWVag8ODnb8/PjjjysoKEht27bV2rVrK7yO0aNHa86cObr11ls1ePBg1ahRQ2lpaVq9erUuv/xyXXvttee0DcD5RLiB8Xr27Kl27dpJku6++27Vr19fM2bM0D//+U8NHDiwzHny8vJUu3btKq2jZs2aFZ7Hzc2tWoaFP+9Tf39/Pfvss1q+fLkGDBjg4urM5+fnpzvuuOOMfdLT0xUWFqbs7Gw1aNCgQsvPzMzUyy+/rOHDh+u1115zmjZz5kwdPny4wjVXVmFhoYqLi6tdwEf1xmkpXHJuuOEGSb//8pd+v9bB29tbe/fu1c033ywfHx8NHjxY0u+H5mfOnKmWLVvK09NTgYGBuueee/TLL7+UWu7q1avVtWtX+fj4yNfXV+3bt9fixYsd08u6puLdd99VZGSkY57WrVtr1qxZjumnu+ZmyZIlioyMlJeXl/z9/XXHHXeUOi1Usl0//fST+vTpI29vbzVo0EDjxo1TUVFRpfdfWbp06SJJ2rt3r1P7d999p379+qlevXry9PRUu3bttHz58lLzHz16VGPHjlVYWJjsdrsaNWqkuLg4ZWdnS5IKCgo0ceJERUZGys/PT7Vr11aXLl20fv36Kt2OPyvvevfv3y+bzaZp06bptddeU5MmTWS329W+fXt9+eWXpZa7bNkytWrVSp6enmrVqpU+/PDDKq/9XK7fSU9Pl2VZ6tSpU6lpNptNAQEBTm1ne/0kKSsrS3fddZcCAwPl6empiIgILVq0yGk5p+7HmTNnOvbjf//7X0nlH08AR25wySn5A1y/fn1HW2FhoWJiYtS5c2dNmzbNcbrqnnvu0cKFCzV06FCNHj1a6enpmj17tr7++mtt2rTJcTRm4cKFGjZsmFq2bKnx48erTp06+vrrr7VmzRoNGjSozDrWrVungQMHqnv37nr22WclSbt27dKmTZs0ZsyY09ZfUk/79u2VlJSkzMxMzZo1S5s2bdLXX3+tOnXqOPoWFRUpJiZGHTt21LRp0/Txxx9r+vTpatKkie67775z2o+nKrlYt27duo62b7/9Vp06dVJISIgSExNVu3Ztvffee+rTp4/ef/993XbbbZKk48ePq0uXLtq1a5eGDRuma665RtnZ2Vq+fLl+/PFH+fv7Kzc3V6+//roGDhyo4cOH69ixY3rjjTcUExOjrVu3qk2bNlW2Laeq6HoXL16sY8eO6Z577pHNZtNzzz2nv/3tb9q3b59jrHz00Ufq27evWrRooaSkJP38888aOnSoGjVqVO66ioqKnIKDJHl6esrb2/uct1mSGjduLOn3EN2/f/8znr4tz+v366+/6vrrr9eePXs0atQohYeHa8mSJRoyZIiOHj1aarwvWLBAJ0+e1IgRI2S321WvXr1yjydAkmQBhlqwYIElyfr444+tw4cPWwcPHrTeffddq379+paXl5f1448/WpZlWfHx8ZYkKzEx0Wn+zz77zJJkvfPOO07ta9ascWo/evSo5ePjY3Xs2NH69ddfnfoWFxc7fo6Pj7caN27seD5mzBjL19fXKiwsPO02rF+/3pJkrV+/3rIsyyooKLACAgKsVq1aOa1rxYoVliRr4sSJTuuTZE2ZMsVpmW3btrUiIyNPu84zKWufLl261GrQoIFlt9utgwcPOvp2797dat26tXXy5ElHW3FxsXXddddZTZs2dbRNnDjRkmR98MEHpdZXsv8KCwut/Px8p2m//PKLFRgYaA0bNsypXZI1adKkUjWnp6dXeHvLu9709HRLklW/fn3ryJEjjvZ//vOfliTrX//6l6OtTZs2VsOGDa2jR4862j766CNLktP4OJ2uXbtakko94uPjy+x/+PDhUvukPOLi4ixJVt26da3bbrvNmjZtmrVr165S/crz+s2cOdOSZL399tuOaQUFBVZUVJTl7e1t5ebmWpb1x3709fW1srKynJZV3vEEWJZlcVoKxouOjlaDBg0UGhqq22+/Xd7e3vrwww8VEhLi1O/PRzKWLFkiPz8/3XjjjcrOznY8IiMj5e3t7Tg1sW7dOh07dkyJiYmlro+x2WynratOnTrKy8vTunXryr0tX331lbKysnT//fc7reuWW25R8+bNtXLlylLz3HvvvU7Pu3Tpon379pV7nWU5dZ/269dPtWvX1vLlyx1HH44cOaJPPvlEAwYM0LFjxxz77ueff1ZMTIx2797tOI32/vvvKyIiosz/vEv2n7u7u+Oai+LiYh05ckSFhYVq166dtm/ffk7bciYVXW9sbKzT0auS03Ul+/vQoUNKTU1VfHy8/Pz8HP1uvPFGtWjRotx1hYWFad26dU6PRx55pFLbeDoLFizQ7NmzFR4erg8//FDjxo3TVVddpe7duzudAi3P67dq1SoFBQU5XeNWs2ZNjR49WsePH9enn37qNF/fvn2drhOqyHgCJE5L4RIwZ84cXXnllapRo4YCAwPVrFkzubk55/oaNWqUOi2we/du5eTklLq+oERWVpakP05ztWrVqkJ13X///XrvvffUs2dPhYSEqEePHhowYIBuuumm087zww8/SJKaNWtWalrz5s31+eefO7V5enqWupi0bt26ZV4zVBEl+zQnJ0fz58/Xxo0bZbfbHdP37Nkjy7I0YcIETZgwocxlZGVlKSQkRHv37lXfvn3Pus5FixZp+vTp+u677/Tbb7852sPDw89pW6pyvZdddpnT85KgU7K/S16/pk2blpq3WbNm5Q5qtWvXVnR0dPk24AyOHz+u48ePO567u7s7xoubm5tGjhypkSNH6ueff9amTZs0d+5crV69Wrfffrs+++wzSSrX6/fDDz+oadOmpd53V111lWP6qf68bysyngCJcINLQIcOHRx39pyO3W4v9Yu3uLhYAQEBeuedd8qcp6J3oPxZQECAUlNTtXbtWq1evVqrV6/WggULFBcXV+pCy8pyd3evkuX82an7tE+fPurcubMGDRqktLQ0eXt7O255HzdunGJiYspcxhVXXFHu9b399tsaMmSI+vTpo4cfflgBAQFyd3dXUlJSqYuYq1JF13u6/W1Z1nmr8VxMmzZNkydPdjxv3LhxmR92WL9+ffXu3Vu9e/fW9ddfr08//VQ//PCD49qcqubl5eX0vKrHE8xHuAFOo0mTJvr444/VqVOnUr9s/9xPknbu3FnhX7AeHh7q1auXevXqpeLiYt1///169dVXNWHChDKXVfLHJC0tzXHXV4m0tLTz9sfmTEr+2Hfr1k2zZ89WYmKiLr/8ckm/n3o42xGGJk2aaOfOnWfss3TpUl1++eX64IMPnE71TZo06dw34AKut+T12b17d6lpaWlplSvyHMTFxalz586O52ca5yXatWunTz/9VIcOHVLjxo3L9fo1btxY//nPf1RcXOz0T0TJhw6ebdxWZDwBEreCA6c1YMAAFRUV6cknnyw1rbCwUEePHpUk9ejRQz4+PkpKStLJkyed+p3pP/aff/7Z6bmbm5uuvvpqSVJ+fn6Z87Rr104BAQGaO3euU5/Vq1dr165duuWWW8q1bVXt+uuvV4cOHTRz5kydPHlSAQEBuv766/Xqq6/q0KFDpfqf+jkpffv21Y4dO8q8Hbpk/5UcETl1f37xxRfasmVLVW+Kk6peb8OGDdWmTRstWrRIOTk5jvZ169Y5bne+kC6//HJFR0c7HiW3fmdkZJRZT0FBgVJSUuTm5uYI3+V5/W6++WZlZGQoOTnZMa2wsFAvvfSSvL291bVr1zPWWZHxBEgcuQFOq2vXrrrnnnuUlJSk1NRU9ejRQzVr1tTu3bu1ZMkSzZo1S/369ZOvr69eeOEF3X333Wrfvr0GDRqkunXraseOHTpx4sRpTzHdfffdOnLkiG644QY1atRIP/zwg1566SW1adPGcS3Cn9WsWVPPPvushg4dqq5du2rgwIGOW8HDwsI0duzYSm3rkCFDtGjRIscHv1XGww8/rP79+2vhwoW69957NWfOHHXu3FmtW7fW8OHDdfnllyszM1NbtmzRjz/+qB07djjmW7p0qfr3769hw4YpMjJSR44c0fLlyzV37lxFRETor3/9qz744APddtttuuWWW5Senq65c+eqRYsWTteMlFfJ7fQLFizQkCFDTtuvqtcrSUlJSbrlllvUuXNnDRs2TEeOHNFLL72kli1bVnqZZXnrrbf0ww8/6MSJE5KkjRs36qmnnpIk3XnnnWc8WvLjjz+qQ4cOuuGGG9S9e3cFBQUpKytL//jHP7Rjxw49+OCD8vf3l1S+12/EiBF69dVXNWTIEG3btk1hYWFaunSpNm3apJkzZ8rHx+es21Pe8QRI4lZwmKvkFuAvv/zyjP3i4+Ot2rVrn3b6a6+9ZkVGRlpeXl6Wj4+P1bp1a+uRRx6x/ve//zn1W758uXXddddZXl5elq+vr9WhQwfrH//4h9N6Tr3Vd+nSpVaPHj2sgIAAy8PDw7rsssuse+65xzp06JCjz59vBS+RnJxstW3b1rLb7Va9evWswYMHO25tP9t2TZo0yfrzW79v376Wl5eX9csvv5x2P1jWmfdpUVGR1aRJE6tJkyaO29v37t1rxcXFWUFBQVbNmjWtkJAQ669//au1dOlSp3l//vlna9SoUVZISIjl4eFhNWrUyIqPj7eys7Mty/r9lt+pU6dajRs3tux2u9W2bVtrxYoVpfapZZXvVvCXXnrJkmStWbPmjNtb3vWW3ML8/PPPl1rGn+uxLMt6//33rauuusqy2+1WixYtrA8++KDMbSlL165drZYtW5arn8q4Zbys8fRnubm51qxZs6yYmBirUaNGVs2aNS0fHx8rKirKmjdvntNHHFjW2V8/y7KszMxMa+jQoZa/v7/l4eFhtW7d2lqwYIHTcs60Hy2r/OMJsFlWNb3SDcAFExgYqLi4OD3//POuLuWCGDBggPbv36+tW7e6uhQA5wGnpYBL3Lfffqtff/1Vjz76qKtLuSAsy9KGDRv09ttvu7oUAOcJR24AAIBRuFsKAAAYxaXhZuPGjerVq5eCg4Nls9m0bNmys86zYcMGXXPNNbLb7briiiu0cOHC814nAAC4eLg03OTl5SkiIkJz5swpV//09HTdcsst6tatm1JTU/Xggw/q7rvv1tq1a89zpQAA4GJRba65sdls+vDDD9WnT5/T9nn00Ue1cuVKp0/DvP3223X06FGtWbPmAlQJAACqu4vqbqktW7aU+ujtmJgYPfjgg6edJz8/3+mTXEu+2bd+/fpn/MZmAABQfViWpWPHjik4OLjUdwH+2UUVbjIyMhQYGOjUFhgYqNzcXP36669lfi9KUlKS0xfDAQCAi9fBgwfVqFGjM/a5qMJNZYwfP14JCQmO5zk5Obrssst08OBB+fr6urAyAABQXrm5uQoNDS3X13VcVOEmKChImZmZTm2ZmZny9fU97bfZ2u122e32Uu2+vr6EGwAALjLluaTkovqcm6ioKKWkpDi1rVu3TlFRUS6qCAAAVDcuPXJz/Phx7dmzx/E8PT1dqampqlevni677DKNHz9eP/30k958801J0r333qvZs2frkUce0bBhw/TJJ5/ovffe08qVK121CUC1Y5vMhfKXOmtStbgJFnAZlx65+eqrr9S2bVu1bdtWkpSQkKC2bdtq4sSJkqRDhw7pwIEDjv7h4eFauXKl1q1bp4iICE2fPl2vv/66YmJiXFI/AACofqrN59xcKLm5ufLz81NOTg7X3MBIHLkBR25goor8/b6orrkBAAA4G8INAAAwCuEGAAAYhXADAACMQrgBAABGIdwAAACjEG4AAIBRCDcAAMAohBsAAGAUwg0AADAK4QYAABiFcAMAAIxCuAEAAEYh3AAAAKMQbgAAgFEINwAAwCiEGwAAYBTCDQAAMArhBgAAGIVwAwAAjEK4AQAARqnh6gIAAIZZbHN1BXC1QZZLV8+RGwAAYBTCDQAAMArhBgAAGIVwAwAAjEK4AQAARiHcAAAAoxBuAACAUQg3AADAKIQbAABgFMINAAAwCuEGAAAYhXADAACMQrgBAABGIdwAAACjEG4AAIBRCDcAAMAohBsAAGAUwg0AADAK4QYAABiFcAMAAIxSw9UFmMZmc3UFcDXLcnUFAHBp48gNAAAwCuEGAAAYhXADAACMQrgBAABGIdwAAACjEG4AAIBRCDcAAMAohBsAAGAUwg0AADAK4QYAABiFcAMAAIxCuAEAAEYh3AAAAKMQbgAAgFEINwAAwCiEGwAAYBTCDQAAMArhBgAAGIVwAwAAjEK4AQAARnF5uJkzZ47CwsLk6empjh07auvWrWfsP3PmTDVr1kxeXl4KDQ3V2LFjdfLkyQtULQAAqO5cGm6Sk5OVkJCgSZMmafv27YqIiFBMTIyysrLK7L948WIlJiZq0qRJ2rVrl9544w0lJyfrscceu8CVAwCA6sql4WbGjBkaPny4hg4dqhYtWmju3LmqVauW5s+fX2b/zZs3q1OnTho0aJDCwsLUo0cPDRw48KxHewAAwKXDZeGmoKBA27ZtU3R09B/FuLkpOjpaW7ZsKXOe6667Ttu2bXOEmX379mnVqlW6+eabT7ue/Px85ebmOj0AAIC5arhqxdnZ2SoqKlJgYKBTe2BgoL777rsy5xk0aJCys7PVuXNnWZalwsJC3XvvvWc8LZWUlKTJkydXae0AAKD6cvkFxRWxYcMGTZ06VS+//LK2b9+uDz74QCtXrtSTTz552nnGjx+vnJwcx+PgwYMXsGIAAHChuezIjb+/v9zd3ZWZmenUnpmZqaCgoDLnmTBhgu68807dfffdkqTWrVsrLy9PI0aM0N///ne5uZXOana7XXa7veo3AAAAVEsuO3Lj4eGhyMhIpaSkONqKi4uVkpKiqKioMuc5ceJEqQDj7u4uSbIs6/wVCwAALhouO3IjSQkJCYqPj1e7du3UoUMHzZw5U3l5eRo6dKgkKS4uTiEhIUpKSpIk9erVSzNmzFDbtm3VsWNH7dmzRxMmTFCvXr0cIQcAAFzaXBpuYmNjdfjwYU2cOFEZGRlq06aN1qxZ47jI+MCBA05Hah5//HHZbDY9/vjj+umnn9SgQQP16tVLTz/9tKs2AQAAVDM26xI7n5Obmys/Pz/l5OTI19e3ypdvs1X5InGRcfU7yjaZQXipsya5eBAuZgxe8gZV/RisyN/vi+puKQAAgLMh3AAAAKMQbgAAgFEINwAAwCiEGwAAYBTCDQAAMArhBgAAGIVwAwAAjEK4AQAARiHcAAAAoxBuAACAUQg3AADAKIQbAABgFMINAAAwCuEGAAAYhXADAACMQrgBAABGIdwAAACjEG4AAIBRCDcAAMAohBsAAGAUwg0AADAK4QYAABiFcAMAAIxCuAEAAEYh3AAAAKMQbgAAgFEINwAAwCiEGwAAYBTCDQAAMArhBgAAGIVwAwAAjEK4AQAARiHcAAAAoxBuAACAUQg3AADAKIQbAABgFMINAAAwCuEGAAAYhXADAACMQrgBAABGIdwAAACjEG4AAIBRCDcAAMAohBsAAGAUwg0AADAK4QYAABiFcAMAAIxCuAEAAEYh3AAAAKMQbgAAgFEINwAAwCiEGwAAYBTCDQAAMArhBgAAGIVwAwAAjEK4AQAARiHcAAAAoxBuAACAUQg3AADAKIQbAABgFMINAAAwCuEGAAAYxeXhZs6cOQoLC5Onp6c6duyorVu3nrH/0aNHNXLkSDVs2FB2u11XXnmlVq1adYGqBQAA1V0NV648OTlZCQkJmjt3rjp27KiZM2cqJiZGaWlpCggIKNW/oKBAN954owICArR06VKFhITohx9+UJ06dS588QAAoFpyabiZMWOGhg8frqFDh0qS5s6dq5UrV2r+/PlKTEws1X/+/Pk6cuSINm/erJo1a0qSwsLCLmTJAACgmnPZaamCggJt27ZN0dHRfxTj5qbo6Ght2bKlzHmWL1+uqKgojRw5UoGBgWrVqpWmTp2qoqKi064nPz9fubm5Tg8AAGAul4Wb7OxsFRUVKTAw0Kk9MDBQGRkZZc6zb98+LV26VEVFRVq1apUmTJig6dOn66mnnjrtepKSkuTn5+d4hIaGVul2AACA6sXlFxRXRHFxsQICAvTaa68pMjJSsbGx+vvf/665c+eedp7x48crJyfH8Th48OAFrBgAAFxoLrvmxt/fX+7u7srMzHRqz8zMVFBQUJnzNGzYUDVr1pS7u7uj7aqrrlJGRoYKCgrk4eFRah673S673V61xQMAgGrLZUduPDw8FBkZqZSUFEdbcXGxUlJSFBUVVeY8nTp10p49e1RcXOxo+/7779WwYcMygw0AALj0uPS0VEJCgubNm6dFixZp165duu+++5SXl+e4eyouLk7jx4939L/vvvt05MgRjRkzRt9//71WrlypqVOnauTIka7aBAAAUM249Fbw2NhYHT58WBMnTlRGRobatGmjNWvWOC4yPnDggNzc/shfoaGhWrt2rcaOHaurr75aISEhGjNmjB599FFXbQIAAKhmbJZlWa4u4kLKzc2Vn5+fcnJy5OvrW+XLt9mqfJG4yLj6HWWbzCC81FmTXDwIFzMGL3mDqn4MVuTv90V1txQAAMDZEG4AAIBRCDcAAMAohBsAAGAUwg0AADAK4QYAABiFcAMAAIxCuAEAAEYh3AAAAKMQbgAAgFEINwAAwCiEGwAAYBTCDQAAMMo5hZuCggKlpaWpsLCwquoBAAA4J5UKNydOnNBdd92lWrVqqWXLljpw4IAk6YEHHtAzzzxTpQUCAABURKXCzfjx47Vjxw5t2LBBnp6ejvbo6GglJydXWXEAAAAVVaMyMy1btkzJycm69tprZbPZHO0tW7bU3r17q6w4AACAiqrUkZvDhw8rICCgVHteXp5T2AEAALjQKhVu2rVrp5UrVzqelwSa119/XVFRUVVTGQAAQCVU6rTU1KlT1bNnT/33v/9VYWGhZs2apf/+97/avHmzPv3006quEQAAoNwqdeSmc+fO2rFjhwoLC9W6dWt99NFHCggI0JYtWxQZGVnVNQIAAJRbhY/c/Pbbb7rnnns0YcIEzZs373zUBAAAUGkVPnJTs2ZNvf/+++ejFgAAgHNWqdNSffr00bJly6q4FAAAgHNXqQuKmzZtqilTpmjTpk2KjIxU7dq1naaPHj26SooDAACoqEqFmzfeeEN16tTRtm3btG3bNqdpNpuNcAMAAFymUuEmPT29qusAAACoEuf0reCSZFmWLMuqiloAAADOWaXDzZtvvqnWrVvLy8tLXl5euvrqq/XWW29VZW0AAAAVVqnTUjNmzNCECRM0atQoderUSZL0+eef695771V2drbGjh1bpUUCAACUV6XCzUsvvaRXXnlFcXFxjrbevXurZcuWeuKJJwg3AADAZSp1WurQoUO67rrrSrVfd911OnTo0DkXBQAAUFmVCjdXXHGF3nvvvVLtycnJatq06TkXBQAAUFmVOi01efJkxcbGauPGjY5rbjZt2qSUlJQyQw8AAMCFUqkjN3379tUXX3whf39/LVu2TMuWLZO/v7+2bt2q2267raprBAAAKLdKHbmRpMjISL399ttVWQsAAMA5q9SRm1WrVmnt2rWl2teuXavVq1efc1EAAACVValwk5iYqKKiolLtlmUpMTHxnIsCAACorEqFm927d6tFixal2ps3b649e/acc1EAAACVValw4+fnp3379pVq37Nnj2rXrn3ORQEAAFRWpcLNrbfeqgcffFB79+51tO3Zs0cPPfSQevfuXWXFAQAAVFSlws1zzz2n2rVrq3nz5goPD1d4eLiaN2+u+vXra9q0aVVdIwAAQLlV6lZwPz8/bd68WevWrdOOHTvk5eWliIgIdenSparrAwAAqJAKHbnZsmWLVqxYIUmy2Wzq0aOHAgICNG3aNPXt21cjRoxQfn7+eSkUAACgPCoUbqZMmaJvv/3W8fybb77R8OHDdeONNyoxMVH/+te/lJSUVOVFAgAAlFeFwk1qaqq6d+/ueP7uu++qQ4cOmjdvnhISEvTiiy/y3VIAAMClKhRufvnlFwUGBjqef/rpp+rZs6fjefv27XXw4MGqqw4AAKCCKhRuAgMDlZ6eLkkqKCjQ9u3bde211zqmHzt2TDVr1qzaCgEAACqgQuHm5ptvVmJioj777DONHz9etWrVcrpD6j//+Y+aNGlS5UUCAACUV4VuBX/yySf1t7/9TV27dpW3t7cWLVokDw8Px/T58+erR48eVV4kAABAeVUo3Pj7+2vjxo3KycmRt7e33N3dnaYvWbJE3t7eVVogAABARVT6Q/zKUq9evXMqBgAA4FxV6usXAAAAqivCDQAAMArhBgAAGIVwAwAAjEK4AQAARiHcAAAAoxBuAACAUQg3AADAKIQbAABgFMINAAAwCuEGAAAYpVqEmzlz5igsLEyenp7q2LGjtm7dWq753n33XdlsNvXp0+f8FggAAC4aLg83ycnJSkhI0KRJk7R9+3ZFREQoJiZGWVlZZ5xv//79GjdunLp06XKBKgUAABcDl4ebGTNmaPjw4Ro6dKhatGihuXPnqlatWpo/f/5p5ykqKtLgwYM1efJkXX755Wdcfn5+vnJzc50eAADAXC4NNwUFBdq2bZuio6MdbW5uboqOjtaWLVtOO9+UKVMUEBCgu+6666zrSEpKkp+fn+MRGhpaJbUDAIDqyaXhJjs7W0VFRQoMDHRqDwwMVEZGRpnzfP7553rjjTc0b968cq1j/PjxysnJcTwOHjx4znUDAIDqq4arC6iIY8eO6c4779S8efPk7+9frnnsdrvsdvt5rgwAAFQXLg03/v7+cnd3V2ZmplN7ZmamgoKCSvXfu3ev9u/fr169ejnaiouLJUk1atRQWlqamjRpcn6LBgAA1ZpLT0t5eHgoMjJSKSkpjrbi4mKlpKQoKiqqVP/mzZvrm2++UWpqquPRu3dvdevWTampqVxPAwAAXH9aKiEhQfHx8WrXrp06dOigmTNnKi8vT0OHDpUkxcXFKSQkRElJSfL09FSrVq2c5q9Tp44klWoHAACXJpeHm9jYWB0+fFgTJ05URkaG2rRpozVr1jguMj5w4IDc3Fx+xzoAALhI2CzLslxdxIWUm5srPz8/5eTkyNfXt8qXb7NV+SJxkXH1O8o2mUF4qbMmuXgQLmYMXvIGVf0YrMjfbw6JAAAAoxBuAACAUQg3AADAKIQbAABgFMINAAAwCuEGAAAYhXADAACMQrgBAABGIdwAAACjEG4AAIBRCDcAAMAohBsAAGAUwg0AADAK4QYAABiFcAMAAIxCuAEAAEYh3AAAAKMQbgAAgFEINwAAwCiEGwAAYBTCDQAAMArhBgAAGIVwAwAAjEK4AQAARiHcAAAAoxBuAACAUQg3AADAKIQbAABgFMINAAAwCuEGAAAYhXADAACMQrgBAABGIdwAAACjEG4AAIBRCDcAAMAohBsAAGAUwg0AADAK4QYAABiFcAMAAIxCuAEAAEYh3AAAAKMQbgAAgFEINwAAwCiEGwAAYBTCDQAAMArhBgAAGIVwAwAAjEK4AQAARiHcAAAAoxBuAACAUQg3AADAKIQbAABgFMINAAAwCuEGAAAYhXADAACMQrgBAABGIdwAAACjEG4AAIBRCDcAAMAohBsAAGAUwg0AADAK4QYAABiFcAMAAIxSLcLNnDlzFBYWJk9PT3Xs2FFbt249bd958+apS5cuqlu3rurWravo6Ogz9gcAAJcWl4eb5ORkJSQkaNKkSdq+fbsiIiIUExOjrKysMvtv2LBBAwcO1Pr167VlyxaFhoaqR48e+umnny5w5QAAoDqyWZZlubKAjh07qn379po9e7Ykqbi4WKGhoXrggQeUmJh41vmLiopUt25dzZ49W3FxcaWm5+fnKz8/3/E8NzdXoaGhysnJka+vb9VtyP+z2ap8kbjIuPYdJdkmMwgvddYkFw/CxYzBS96gqh+Dubm58vPzK9ffb5ceuSkoKNC2bdsUHR3taHNzc1N0dLS2bNlSrmWcOHFCv/32m+rVq1fm9KSkJPn5+TkeoaGhVVI7AAConlwabrKzs1VUVKTAwECn9sDAQGVkZJRrGY8++qiCg4OdAtKpxo8fr5ycHMfj4MGD51w3AACovmq4uoBz8cwzz+jdd9/Vhg0b5OnpWWYfu90uu91+gSsDAACu4tJw4+/vL3d3d2VmZjq1Z2ZmKigo6IzzTps2Tc8884w+/vhjXX311eezTAAAcBFx6WkpDw8PRUZGKiUlxdFWXFyslJQURUVFnXa+5557Tk8++aTWrFmjdu3aXYhSAQDARcLlp6USEhIUHx+vdu3aqUOHDpo5c6by8vI0dOhQSVJcXJxCQkKUlJQkSXr22Wc1ceJELV68WGFhYY5rc7y9veXt7e2y7QAAANWDy8NNbGysDh8+rIkTJyojI0Nt2rTRmjVrHBcZHzhwQG5ufxxgeuWVV1RQUKB+/fo5LWfSpEl64oknLmTpAACgGnL559xcaBW5T74y+JwbuPodxefcgM+5gctdyp9zAwAAUNUINwAAwCiEGwAAYBTCDQAAMArhBgAAGIVwAwAAjEK4AQAARiHcAAAAoxBuAACAUQg3AADAKIQbAABgFMINAAAwCuEGAAAYhXADAACMQrgBAABGIdwAAACjEG4AAIBRCDcAAMAohBsAAGAUwg0AADAK4QYAABiFcAMAAIxCuAEAAEYh3AAAAKMQbgAAgFEINwAAwCiEGwAAYBTCDQAAMArhBgAAGIVwAwAAjEK4AQAARiHcAAAAoxBuAACAUQg3AADAKIQbAABgFMINAAAwCuEGAAAYhXADAACMQrgBAABGIdwAAACjEG4AAIBRCDcAAMAohBsAAGAUwg0AADAK4QYAABiFcAMAAIxCuAEAAEYh3AAAAKMQbgAAgFEINwAAwCiEGwAAYBTCDQAAMArhBgAAGIVwAwAAjEK4AQAARiHcAAAAoxBuAACAUQg3AADAKIQbAABgFMINAAAwCuEGAAAYhXADAACMUi3CzZw5cxQWFiZPT0917NhRW7duPWP/JUuWqHnz5vL09FTr1q21atWqC1QpAACo7lwebpKTk5WQkKBJkyZp+/btioiIUExMjLKyssrsv3nzZg0cOFB33XWXvv76a/Xp00d9+vTRzp07L3DlAACgOrJZlmW5soCOHTuqffv2mj17tiSpuLhYoaGheuCBB5SYmFiqf2xsrPLy8rRixQpH27XXXqs2bdpo7ty5Z11fbm6u/Pz8lJOTI19f36rbkP9ns1X5InGRce07SrJNZhBe6qxJLh6EixmDl7xBVT8GK/L3u0aVr70CCgoKtG3bNo0fP97R5ubmpujoaG3ZsqXMebZs2aKEhASntpiYGC1btqzM/vn5+crPz3c8z8nJkfT7TgLOB5cPrZMuXj9czuW/3064dvWoBs7DGCwZ1+U5JuPScJOdna2ioiIFBgY6tQcGBuq7774rc56MjIwy+2dkZJTZPykpSZMnTy7VHhoaWsmqgTPz83N1BbjU+T3DIISLDT9/Y/DYsWPyO8svWpeGmwth/PjxTkd6iouLdeTIEdWvX182ziFVqdzcXIWGhurgwYPn5ZQfcDaMQbgaY/D8sSxLx44dU3Bw8Fn7ujTc+Pv7y93dXZmZmU7tmZmZCgoKKnOeoKCgCvW32+2y2+1ObXXq1Kl80TgrX19f3tRwKcYgXI0xeH6c7YhNCZfeLeXh4aHIyEilpKQ42oqLi5WSkqKoqKgy54mKinLqL0nr1q07bX8AAHBpcflpqYSEBMXHx6tdu3bq0KGDZs6cqby8PA0dOlSSFBcXp5CQECUlJUmSxowZo65du2r69Om65ZZb9O677+qrr77Sa6+95srNAAAA1YTLw01sbKwOHz6siRMnKiMjQ23atNGaNWscFw0fOHBAbm5/HGC67rrrtHjxYj3++ON67LHH1LRpUy1btkytWrVy1Sbg/9ntdk2aNKnUaUDgQmEMwtUYg9WDyz/nBgAAoCq5/BOKAQAAqhLhBgAAGIVwAwAAjEK4AQAARiHcoErZbLbTfs/XufQFzrdTx+P+/ftls9mUmprq0poAVA7hxmBDhgyRzWaTzWaTh4eHrrjiCk2ZMkWFhYXnbZ2HDh1Sz549q7wvzHbqWK1Zs6bCw8P1yCOP6ORJvgUU5+bUsXXqY8+ePdq4caN69eql4ODgCv2ztWPHDvXu3VsBAQHy9PRUWFiYYmNjlZWVdX43BuVGuDHcTTfdpEOHDmn37t166KGH9MQTT+j5558v1a+goKBK1hcUFFTuz3eoSF+Yr2Ss7tu3Ty+88IJeffVVTZo0ydVlwQAlY+vUR3h4uPLy8hQREaE5c+aUe1mHDx9W9+7dVa9ePa1du1a7du3SggULFBwcrLy8vPO2Db/99tt5W7aJCDeGs9vtCgoKUuPGjXXfffcpOjpay5cv15AhQ9SnTx89/fTTCg4OVrNmzSRJBw8e1IABA1SnTh3Vq1dPt956q/bv3++0zPnz56tly5ay2+1q2LChRo0a5Zh26n8/BQUFGjVqlBo2bChPT081btzY8UnTf+4rSd98841uuOEGeXl5qX79+hoxYoSOHz/umF5S87Rp09SwYUPVr19fI0eO5E1viJKxGhoaqj59+ig6Olrr1q2T9PvXsiQlJSk8PFxeXl6KiIjQ0qVLneb/9ttv9de//lW+vr7y8fFRly5dtHfvXknSl19+qRtvvFH+/v7y8/NT165dtX379gu+jXCNkrF16sPd3V09e/bUU089pdtuu63cy9q0aZNycnL0+uuvq23btgoPD1e3bt30wgsvKDw83NHvTOOxuLhYU6ZMUaNGjWS32x0fXlui5LRocnKyunbtKk9PT73zzjuSpNdff11XXXWVPD091bx5c7388stVtJfMQri5xHh5eTmO0qSkpCgtLU3r1q3TihUr9NtvvykmJkY+Pj767LPPtGnTJnl7e+umm25yzPPKK69o5MiRGjFihL755hstX75cV1xxRZnrevHFF7V8+XK99957SktL0zvvvKOwsLAy++bl5SkmJkZ169bVl19+qSVLlujjjz92Ck6StH79eu3du1fr16/XokWLtHDhQi1cuLDK9g+qh507d2rz5s3y8PCQJCUlJenNN9/U3Llz9e2332rs2LG644479Omnn0qSfvrpJ/3lL3+R3W7XJ598om3btmnYsGGOU7DHjh1TfHy8Pv/8c/373/9W06ZNdfPNN+vYsWMu20ZcnIKCglRYWKgPP/xQp/sM3LONx1mzZmn69OmaNm2a/vOf/ygmJka9e/fW7t27nZaTmJioMWPGaNeuXYqJidE777yjiRMn6umnn9auXbs0depUTZgwQYsWLTrv233RsWCs+Ph469Zbb7Usy7KKi4utdevWWXa73Ro3bpwVHx9vBQYGWvn5+Y7+b731ltWsWTOruLjY0Zafn295eXlZa9eutSzLsoKDg62///3vp12nJOvDDz+0LMuyHnjgAeuGG25wWt7p+r722mtW3bp1rePHjzumr1y50nJzc7MyMjIc29O4cWOrsLDQ0ad///5WbGxs+XcKqqX4+HjL3d3dql27tmW32y1Jlpubm7V06VLr5MmTVq1atazNmzc7zXPXXXdZAwcOtCzLssaPH2+Fh4dbBQUF5VpfUVGR5ePjY/3rX/9ytJ06HtPT0y1J1tdff10l2wfXOXVslTz69etXqt+pr//ZPPbYY1aNGjWsevXqWTfddJP13HPPOX5PWdbZx2NwcLD19NNPO7W1b9/euv/++y3L+mP8zZw506lPkyZNrMWLFzu1Pfnkk1ZUVFS56r6UcOTGcCtWrJC3t7c8PT3Vs2dPxcbG6oknnpAktW7d2vGfsfT7RXJ79uyRj4+PvL295e3trXr16unkyZPau3evsrKy9L///U/du3cv17qHDBmi1NRUNWvWTKNHj9ZHH3102r67du1SRESEateu7Wjr1KmTiouLlZaW5mhr2bKl3N3dHc8bNmzIRXyG6Natm1JTU/XFF18oPj5eQ4cOVd++fbVnzx6dOHFCN954o2Ncent7680333Qc5k9NTVWXLl1Us2bNMpedmZmp4cOHq2nTpvLz85Ovr6+OHz+uAwcOXMhNhIuUjK2Sx4svvliu+aZOneo05krGy9NPP62MjAzNnTtXLVu21Ny5c9W8eXN98803ks48HnNzc/W///1PnTp1cmrv1KmTdu3a5dTWrl07x895eXnau3ev7rrrLqeannrqKcf7AH9w+Rdn4vzq1q2bXnnlFXl4eCg4OFg1avzxkp8aJCTp+PHjioyMdJzbPVWDBg2cvsC0PK655hqlp6dr9erV+vjjjzVgwABFR0eXulaiIv78y8Jms6m4uLjSy0P1Ubt2bccpzvnz5ysiIkJvvPGG40txV65cqZCQEKd5Si5I9/LyOuOy4+Pj9fPPP2vWrFlq3Lix7Ha7oqKiquxCelRvp46tirj33ns1YMAAx/Pg4GDHz/Xr11f//v3Vv39/TZ06VW3bttW0adO0aNGis47HitRdouT6w3nz5qljx45O/U79hw+/I9wYriJv6muuuUbJyckKCAiQr69vmX3CwsKUkpKibt26lWuZvr6+io2NVWxsrPr166ebbrpJR44cUb169Zz6XXXVVVq4cKHy8vIcb+hNmzbJzc3NcbEzLh1ubm567LHHlJCQoO+//152u10HDhxQ165dy+x/9dVXa9GiRfrtt9/K/G9506ZNevnll3XzzTdL+v3C+ezs7PO6Dbj41atXr9TvqrJ4eHioSZMmjrulzjQefX19FRwcrE2bNjmN502bNqlDhw6nXUdgYKCCg4O1b98+DR48uJJbdOngtBQcBg8eLH9/f91666367LPPlJ6erg0bNmj06NH68ccfJUlPPPGEpk+frhdffFG7d+/W9u3b9dJLL5W5vBkzZugf//iHvvvuO33//fdasmSJgoKCVKdOnTLX7enpqfj4eO3cuVPr16/XAw88oDvvvFOBgYHnc7NRTfXv31/u7u569dVXNW7cOI0dO1aLFi3S3r17HeOu5ELKUaNGKTc3V7fffru++uor7d69W2+99ZbjlGbTpk311ltvadeuXfriiy80ePDgKvvvGhev48ePO05VSVJ6erpSU1PPeLpyxYoVuuOOO7RixQp9//33SktL07Rp07Rq1Srdeuutks4+Hh9++GE9++yzSk5OVlpamhITE5WamqoxY8acsd7JkycrKSlJL774or7//nt98803WrBggWbMmFE1O8QgHLmBQ61atbRx40Y9+uij+tvf/qZjx44pJCRE3bt3dxzJiY+P18mTJ/XCCy9o3Lhx8vf3V79+/cpcno+Pj5577jnt3r1b7u7uat++vVatWlXm6a1atWpp7dq1GjNmjNq3b69atWqpb9++vGkvYTVq1NCoUaP03HPPKT09XQ0aNFBSUpL27dunOnXq6JprrtFjjz0m6fdTBJ988okefvhhde3aVe7u7mrTpo3juoY33nhDI0aM0DXXXKPQ0FBNnTpV48aNc+XmoRr46quvnI5CJyQkSPr999zp7sJs0aKFatWqpYceekgHDx6U3W5X06ZN9frrr+vOO++UdPbxOHr0aOXk5Oihhx5SVlaWWrRooeXLl6tp06ZnrPfuu+9WrVq19Pzzz+vhhx9W7dq11bp1az344IPnvjMMY7Os09zLBgAAcBHitBQAADAK4QYAABiFcAMAAIxCuAEAAEYh3AAAAKMQbgAAgFEINwAAwCiEGwAAYBTCDQAAMArhBgAAGIVwAwAAjPJ/JW/9ofaG3s0AAAAASUVORK5CYII=",
>>>>>>> c5ea718a9496f490304b1ac284e6d80a420b5ecc
      "text/plain": [
       "<Figure size 640x480 with 1 Axes>"
      ]
     },
     "metadata": {},
     "output_type": "display_data"
    }
   ],
   "source": [
    "metrics = ['Precision', 'Recall', 'F1-Score']\n",
    "values = [precision, recall, f1]\n",
    "\n",
    "# Create bar plot\n",
    "plt.bar(metrics, values, color=['blue', 'green', 'orange'])\n",
    "plt.ylim(0, 1)  # Precision, recall, and F1 score are between 0 and 1\n",
    "plt.title('Precision, Recall, and F1-Score')\n",
    "plt.ylabel('Score')\n",
    "plt.show()"
   ]
  },
  {
   "cell_type": "code",
   "execution_count": null,
   "id": "aa3c7bfe-01b8-4820-a5bb-a434bea8df01",
   "metadata": {},
   "outputs": [],
   "source": []
  }
 ],
 "metadata": {
  "kernelspec": {
<<<<<<< HEAD
   "display_name": "Python 3",
=======
   "display_name": "Python 3 (ipykernel)",
>>>>>>> c5ea718a9496f490304b1ac284e6d80a420b5ecc
   "language": "python",
   "name": "python3"
  },
  "language_info": {
   "codemirror_mode": {
    "name": "ipython",
    "version": 3
   },
   "file_extension": ".py",
   "mimetype": "text/x-python",
   "name": "python",
   "nbconvert_exporter": "python",
   "pygments_lexer": "ipython3",
   "version": "3.11.1"
  }
 },
 "nbformat": 4,
 "nbformat_minor": 5
}
